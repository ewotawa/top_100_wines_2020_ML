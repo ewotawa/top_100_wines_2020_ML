{
 "cells": [
  {
   "cell_type": "markdown",
   "metadata": {},
   "source": [
    "# Intro\n",
    "Prepare the *Wine Spectator* Top 100 review set for training a text classifier model.\n",
    "Reference: [Dataset Splitting Best Practices in Python](https://www.kdnuggets.com/2020/05/dataset-splitting-best-practices-python.html)\n",
    "Train and test a Support Vector Machine (SVM) Model to predict wine style from wine review. \n",
    "References:\n",
    "* [scikit-learn: Working with Text Data](https://scikit-learn.org/stable/tutorial/text_analytics/working_with_text_data.html)\n",
    "* [datacamp: Support Vector Machines with Scikit-learn](https://www.datacamp.com/community/tutorials/svm-classification-scikit-learn-python)\n",
    "* [Python : How to Save and Load ML Models](https://www.kaggle.com/prmohanty/python-how-to-save-and-load-ml-models)"
   ]
  },
  {
   "cell_type": "markdown",
   "metadata": {},
   "source": [
    "# Load the *Wine Spectator* Top 100 dataset"
   ]
  },
  {
   "cell_type": "markdown",
   "metadata": {},
   "source": [
    "## File setup"
   ]
  },
  {
   "cell_type": "code",
   "execution_count": 3,
   "metadata": {},
   "outputs": [],
   "source": [
    "# import and initialize main python libraries\n",
    "import numpy as np\n",
    "import pandas as pd\n",
    "\n",
    "# import libraries for file navigation\n",
    "import os\n",
    "import shutil\n",
    "import glob\n",
    "from pandas_ods_reader import read_ods\n",
    "import pickle\n",
    "\n",
    "# import ML libraries\n",
    "import sklearn\n",
    "from sklearn.model_selection import train_test_split\n",
    "from sklearn import metrics\n",
    "from sklearn.feature_extraction.text import CountVectorizer, TfidfTransformer\n",
    "from sklearn.pipeline import Pipeline\n",
    "from sklearn.linear_model import SGDClassifier"
   ]
  },
  {
   "cell_type": "code",
   "execution_count": 4,
   "metadata": {},
   "outputs": [
    {
     "name": "stdout",
     "output_type": "stream",
     "text": [
      "0.24.1\n"
     ]
    }
   ],
   "source": [
    "print(sklearn.__version__)"
   ]
  },
  {
   "cell_type": "markdown",
   "metadata": {},
   "source": [
    "## Load dataframe and reformat"
   ]
  },
  {
   "cell_type": "code",
   "execution_count": 5,
   "metadata": {},
   "outputs": [],
   "source": [
    "# Note: save CSV files in UTF-8 format to preserve special characters.\n",
    "df_Wine = pd.read_csv('./CSV_Wines.csv')"
   ]
  },
  {
   "cell_type": "code",
   "execution_count": 6,
   "metadata": {},
   "outputs": [],
   "source": [
    "# CSV of wines is retaining a blank row at the end of the dataset. Remove the last row to prevent data type errors.\n",
    "\n",
    "# number of rows to drop\n",
    "n = 1\n",
    "\n",
    "df_Wine.drop(df_Wine.tail(n).index, inplace = True)"
   ]
  },
  {
   "cell_type": "code",
   "execution_count": 7,
   "metadata": {},
   "outputs": [
    {
     "data": {
      "text/plain": [
       "(3300, 18)"
      ]
     },
     "execution_count": 7,
     "metadata": {},
     "output_type": "execute_result"
    }
   ],
   "source": [
    "df_Wine.shape"
   ]
  },
  {
   "cell_type": "code",
   "execution_count": 8,
   "metadata": {},
   "outputs": [
    {
     "data": {
      "text/plain": [
       "Review_Year           float64\n",
       "Rank                   object\n",
       "Vintage                object\n",
       "Score                 float64\n",
       "Price                  object\n",
       "Winemaker              object\n",
       "Wine                   object\n",
       "Wine_Style             object\n",
       "Grape_Blend            object\n",
       "Blend_List             object\n",
       "Geography              object\n",
       "Cases_Made            float64\n",
       "Cases_Imported        float64\n",
       "Reviewer               object\n",
       "Drink_now             float64\n",
       "Best_Drink_from       float64\n",
       "Best_Drink_Through    float64\n",
       "Review                 object\n",
       "dtype: object"
      ]
     },
     "execution_count": 8,
     "metadata": {},
     "output_type": "execute_result"
    }
   ],
   "source": [
    "df_Wine.dtypes"
   ]
  },
  {
   "cell_type": "code",
   "execution_count": 9,
   "metadata": {},
   "outputs": [
    {
     "data": {
      "text/html": [
       "<div>\n",
       "<style scoped>\n",
       "    .dataframe tbody tr th:only-of-type {\n",
       "        vertical-align: middle;\n",
       "    }\n",
       "\n",
       "    .dataframe tbody tr th {\n",
       "        vertical-align: top;\n",
       "    }\n",
       "\n",
       "    .dataframe thead th {\n",
       "        text-align: right;\n",
       "    }\n",
       "</style>\n",
       "<table border=\"1\" class=\"dataframe\">\n",
       "  <thead>\n",
       "    <tr style=\"text-align: right;\">\n",
       "      <th></th>\n",
       "      <th>Wine_Style</th>\n",
       "      <th>Review</th>\n",
       "    </tr>\n",
       "  </thead>\n",
       "  <tbody>\n",
       "    <tr>\n",
       "      <th>0</th>\n",
       "      <td>Red</td>\n",
       "      <td>Maturing well, this round red is a lovely exam...</td>\n",
       "    </tr>\n",
       "    <tr>\n",
       "      <th>1</th>\n",
       "      <td>Red</td>\n",
       "      <td>Powerful and structured, with minerally richne...</td>\n",
       "    </tr>\n",
       "    <tr>\n",
       "      <th>2</th>\n",
       "      <td>Red</td>\n",
       "      <td>Effusive aromas of black currant, blueberry, v...</td>\n",
       "    </tr>\n",
       "    <tr>\n",
       "      <th>3</th>\n",
       "      <td>Red</td>\n",
       "      <td>This distinctive red throws a lot of wild sage...</td>\n",
       "    </tr>\n",
       "    <tr>\n",
       "      <th>4</th>\n",
       "      <td>Red</td>\n",
       "      <td>A lush, ripe style, with açaí berry, blueberry...</td>\n",
       "    </tr>\n",
       "  </tbody>\n",
       "</table>\n",
       "</div>"
      ],
      "text/plain": [
       "  Wine_Style                                             Review\n",
       "0        Red  Maturing well, this round red is a lovely exam...\n",
       "1        Red  Powerful and structured, with minerally richne...\n",
       "2        Red  Effusive aromas of black currant, blueberry, v...\n",
       "3        Red  This distinctive red throws a lot of wild sage...\n",
       "4        Red  A lush, ripe style, with açaí berry, blueberry..."
      ]
     },
     "execution_count": 9,
     "metadata": {},
     "output_type": "execute_result"
    }
   ],
   "source": [
    "# limit dataset to text and classifier dimensions\n",
    "df_Wine = df_Wine[['Wine_Style', 'Review']]\n",
    "df_Wine.head()"
   ]
  },
  {
   "cell_type": "code",
   "execution_count": 10,
   "metadata": {},
   "outputs": [
    {
     "data": {
      "text/html": [
       "<div>\n",
       "<style scoped>\n",
       "    .dataframe tbody tr th:only-of-type {\n",
       "        vertical-align: middle;\n",
       "    }\n",
       "\n",
       "    .dataframe tbody tr th {\n",
       "        vertical-align: top;\n",
       "    }\n",
       "\n",
       "    .dataframe thead th {\n",
       "        text-align: right;\n",
       "    }\n",
       "</style>\n",
       "<table border=\"1\" class=\"dataframe\">\n",
       "  <thead>\n",
       "    <tr style=\"text-align: right;\">\n",
       "      <th></th>\n",
       "      <th>Wine_Style</th>\n",
       "      <th>Review</th>\n",
       "    </tr>\n",
       "  </thead>\n",
       "  <tbody>\n",
       "    <tr>\n",
       "      <th>0</th>\n",
       "      <td>1</td>\n",
       "      <td>Maturing well, this round red is a lovely exam...</td>\n",
       "    </tr>\n",
       "    <tr>\n",
       "      <th>1</th>\n",
       "      <td>1</td>\n",
       "      <td>Powerful and structured, with minerally richne...</td>\n",
       "    </tr>\n",
       "    <tr>\n",
       "      <th>2</th>\n",
       "      <td>1</td>\n",
       "      <td>Effusive aromas of black currant, blueberry, v...</td>\n",
       "    </tr>\n",
       "    <tr>\n",
       "      <th>3</th>\n",
       "      <td>1</td>\n",
       "      <td>This distinctive red throws a lot of wild sage...</td>\n",
       "    </tr>\n",
       "    <tr>\n",
       "      <th>4</th>\n",
       "      <td>1</td>\n",
       "      <td>A lush, ripe style, with açaí berry, blueberry...</td>\n",
       "    </tr>\n",
       "  </tbody>\n",
       "</table>\n",
       "</div>"
      ],
      "text/plain": [
       "   Wine_Style                                             Review\n",
       "0           1  Maturing well, this round red is a lovely exam...\n",
       "1           1  Powerful and structured, with minerally richne...\n",
       "2           1  Effusive aromas of black currant, blueberry, v...\n",
       "3           1  This distinctive red throws a lot of wild sage...\n",
       "4           1  A lush, ripe style, with açaí berry, blueberry..."
      ]
     },
     "execution_count": 10,
     "metadata": {},
     "output_type": "execute_result"
    }
   ],
   "source": [
    "# convert wine_style classifier from string to int for easier analysis.\n",
    "\n",
    "# set up dictionary\n",
    "style = {\n",
    "    'Dessert & Fortified': 0,\n",
    "    'Red': 1,\n",
    "    'Rosé | Rosado': 2,\n",
    "    'Sparkling': 3,\n",
    "    'White': 4\n",
    "}\n",
    "\n",
    "# apply dictionary to Wine_Style column:\n",
    "df_Wine.Wine_Style = [style[item] for item in df_Wine.Wine_Style]\n",
    "df_Wine.head()"
   ]
  },
  {
   "cell_type": "markdown",
   "metadata": {},
   "source": [
    "# Explore dataset"
   ]
  },
  {
   "cell_type": "markdown",
   "metadata": {},
   "source": [
    "## Randomly shuffle instances\n",
    "Shuffle records in dataset to prevent biases. Avoids circumstance where one classifier might appear in the training dataset but not the testing dataset, or vice versa."
   ]
  },
  {
   "cell_type": "code",
   "execution_count": 11,
   "metadata": {
    "scrolled": true
   },
   "outputs": [
    {
     "name": "stdout",
     "output_type": "stream",
     "text": [
      "Dataset labels: 0       1\n",
      "1       1\n",
      "2       1\n",
      "3       1\n",
      "4       1\n",
      "5       4\n",
      "6       1\n",
      "7       1\n",
      "8       1\n",
      "9       3\n",
      "10      1\n",
      "11      1\n",
      "12      1\n",
      "13      1\n",
      "14      1\n",
      "15      1\n",
      "16      4\n",
      "17      4\n",
      "18      1\n",
      "19      1\n",
      "20      4\n",
      "21      1\n",
      "22      4\n",
      "23      1\n",
      "24      1\n",
      "25      4\n",
      "26      1\n",
      "27      1\n",
      "28      1\n",
      "29      1\n",
      "       ..\n",
      "3270    1\n",
      "3271    4\n",
      "3272    1\n",
      "3273    1\n",
      "3274    1\n",
      "3275    1\n",
      "3276    4\n",
      "3277    1\n",
      "3278    1\n",
      "3279    4\n",
      "3280    4\n",
      "3281    1\n",
      "3282    1\n",
      "3283    4\n",
      "3284    4\n",
      "3285    1\n",
      "3286    1\n",
      "3287    1\n",
      "3288    4\n",
      "3289    4\n",
      "3290    4\n",
      "3291    1\n",
      "3292    1\n",
      "3293    4\n",
      "3294    4\n",
      "3295    4\n",
      "3296    1\n",
      "3297    1\n",
      "3298    1\n",
      "3299    3\n",
      "Name: Wine_Style, Length: 3300, dtype: int64\n"
     ]
    }
   ],
   "source": [
    "X, y = df_Wine.Review, df_Wine.Wine_Style\n",
    "print(f'Dataset labels: {df_Wine.Wine_Style}')"
   ]
  },
  {
   "cell_type": "code",
   "execution_count": 12,
   "metadata": {},
   "outputs": [
    {
     "name": "stdout",
     "output_type": "stream",
     "text": [
      "Train labels:\n",
      "650     1\n",
      "227     1\n",
      "365     1\n",
      "3140    1\n",
      "862     4\n",
      "276     1\n",
      "2196    1\n",
      "1613    4\n",
      "2216    1\n",
      "1204    1\n",
      "2415    4\n",
      "407     1\n",
      "2526    4\n",
      "2322    1\n",
      "2793    4\n",
      "3115    1\n",
      "847     4\n",
      "2645    4\n",
      "3225    1\n",
      "844     1\n",
      "7       1\n",
      "1192    4\n",
      "1477    1\n",
      "1061    4\n",
      "415     0\n",
      "1159    1\n",
      "990     1\n",
      "1953    1\n",
      "1018    1\n",
      "199     1\n",
      "       ..\n",
      "747     1\n",
      "2300    0\n",
      "21      1\n",
      "459     4\n",
      "1184    1\n",
      "2324    1\n",
      "955     1\n",
      "1215    1\n",
      "2433    1\n",
      "2853    4\n",
      "1515    3\n",
      "2391    1\n",
      "769     1\n",
      "1685    1\n",
      "130     4\n",
      "2919    1\n",
      "3171    1\n",
      "2135    3\n",
      "1482    1\n",
      "330     4\n",
      "1238    1\n",
      "466     1\n",
      "2169    1\n",
      "1638    1\n",
      "3092    1\n",
      "1095    1\n",
      "1130    1\n",
      "1294    1\n",
      "860     1\n",
      "3174    1\n",
      "Name: Wine_Style, Length: 2475, dtype: int64\n",
      "Test labels:\n",
      "52      1\n",
      "679     1\n",
      "1253    4\n",
      "2130    1\n",
      "203     1\n",
      "2451    1\n",
      "2073    1\n",
      "1488    1\n",
      "1665    4\n",
      "485     1\n",
      "1511    4\n",
      "511     1\n",
      "1703    1\n",
      "734     1\n",
      "70      1\n",
      "1812    1\n",
      "2213    4\n",
      "2780    1\n",
      "2857    1\n",
      "1233    1\n",
      "2987    4\n",
      "1411    1\n",
      "2004    1\n",
      "1178    4\n",
      "1525    1\n",
      "1590    1\n",
      "3266    1\n",
      "864     4\n",
      "80      4\n",
      "2899    1\n",
      "       ..\n",
      "1146    1\n",
      "1951    1\n",
      "3116    1\n",
      "2678    1\n",
      "2770    4\n",
      "1710    1\n",
      "2929    1\n",
      "1134    1\n",
      "2013    1\n",
      "2460    1\n",
      "219     1\n",
      "367     1\n",
      "2408    1\n",
      "549     1\n",
      "2507    4\n",
      "2356    4\n",
      "3120    1\n",
      "351     1\n",
      "2691    4\n",
      "772     1\n",
      "2185    1\n",
      "2637    4\n",
      "490     1\n",
      "2954    1\n",
      "2608    0\n",
      "498     1\n",
      "1987    1\n",
      "210     1\n",
      "1351    1\n",
      "2834    1\n",
      "Name: Wine_Style, Length: 825, dtype: int64\n"
     ]
    }
   ],
   "source": [
    "# Split the dataset and shuffle the instances\n",
    "X_train, X_test, y_train, y_test = train_test_split(X, y, \n",
    "                                                    train_size = .75, \n",
    "                                                    random_state = 42)\n",
    "\n",
    "print(f'Train labels:\\n{y_train}')\n",
    "print(f'Test labels:\\n{y_test}')"
   ]
  },
  {
   "cell_type": "markdown",
   "metadata": {},
   "source": [
    "## Stratify classes\n",
    "Ensure even distribution of counts of the the different classifiers."
   ]
  },
  {
   "cell_type": "code",
   "execution_count": 13,
   "metadata": {},
   "outputs": [
    {
     "name": "stdout",
     "output_type": "stream",
     "text": [
      "Train labels:\n",
      "2742    1\n",
      "1810    1\n",
      "2685    4\n",
      "1550    4\n",
      "1086    1\n",
      "1711    4\n",
      "2104    1\n",
      "1612    3\n",
      "1072    1\n",
      "1875    1\n",
      "971     4\n",
      "96      1\n",
      "2863    4\n",
      "3258    3\n",
      "2240    4\n",
      "883     3\n",
      "2267    4\n",
      "100     1\n",
      "2653    4\n",
      "518     1\n",
      "2398    4\n",
      "1608    0\n",
      "2257    1\n",
      "415     0\n",
      "1722    1\n",
      "2232    1\n",
      "2052    1\n",
      "2567    1\n",
      "3149    4\n",
      "1534    1\n",
      "       ..\n",
      "2404    4\n",
      "409     1\n",
      "1172    4\n",
      "2647    4\n",
      "2505    1\n",
      "1437    1\n",
      "821     1\n",
      "2842    4\n",
      "2794    3\n",
      "2829    4\n",
      "559     3\n",
      "2860    1\n",
      "1473    1\n",
      "2155    4\n",
      "2273    1\n",
      "134     1\n",
      "2235    4\n",
      "1264    1\n",
      "486     1\n",
      "1252    1\n",
      "579     4\n",
      "2393    1\n",
      "2719    1\n",
      "2386    1\n",
      "2942    1\n",
      "3073    1\n",
      "2790    1\n",
      "774     4\n",
      "726     1\n",
      "1216    3\n",
      "Name: Wine_Style, Length: 2475, dtype: int64\n",
      "Test labels:\n",
      "1454    1\n",
      "89      4\n",
      "3059    0\n",
      "2448    1\n",
      "2776    4\n",
      "3253    1\n",
      "1223    1\n",
      "689     4\n",
      "249     1\n",
      "977     4\n",
      "3228    1\n",
      "993     4\n",
      "1791    1\n",
      "414     1\n",
      "371     1\n",
      "258     4\n",
      "1700    1\n",
      "3026    1\n",
      "1000    1\n",
      "3009    1\n",
      "152     0\n",
      "2394    3\n",
      "1056    4\n",
      "1643    4\n",
      "1       1\n",
      "3271    4\n",
      "1026    4\n",
      "853     1\n",
      "3011    4\n",
      "1841    4\n",
      "       ..\n",
      "865     1\n",
      "2041    1\n",
      "3097    4\n",
      "577     1\n",
      "2503    0\n",
      "1416    1\n",
      "2830    1\n",
      "39      1\n",
      "624     1\n",
      "996     4\n",
      "2057    1\n",
      "2741    1\n",
      "1321    1\n",
      "215     1\n",
      "2999    3\n",
      "126     1\n",
      "2256    4\n",
      "787     3\n",
      "916     1\n",
      "673     1\n",
      "2220    4\n",
      "2049    1\n",
      "280     4\n",
      "2874    4\n",
      "1566    1\n",
      "2319    1\n",
      "2873    1\n",
      "1336    1\n",
      "1270    1\n",
      "2443    1\n",
      "Name: Wine_Style, Length: 825, dtype: int64\n"
     ]
    }
   ],
   "source": [
    "# Split the dataset and shuffle the instances\n",
    "X_train, X_test, y_train, y_test = train_test_split(X, y, \n",
    "                                                    train_size = .75, \n",
    "                                                    random_state = 42,\n",
    "                                                    stratify = y)\n",
    "\n",
    "print(f'Train labels:\\n{y_train}')\n",
    "print(f'Test labels:\\n{y_test}')"
   ]
  },
  {
   "cell_type": "code",
   "execution_count": 14,
   "metadata": {},
   "outputs": [
    {
     "name": "stdout",
     "output_type": "stream",
     "text": [
      "Number of train instances by class: [  59 1718    7   67  624]\n",
      "Number of test instances by class: [ 20 573   2  22 208]\n"
     ]
    }
   ],
   "source": [
    "print(f'Number of train instances by class: {np.bincount(y_train)}')\n",
    "print(f'Number of test instances by class: {np.bincount(y_test)}')"
   ]
  },
  {
   "cell_type": "markdown",
   "metadata": {},
   "source": [
    "## Extract features from text files"
   ]
  },
  {
   "cell_type": "code",
   "execution_count": 15,
   "metadata": {},
   "outputs": [
    {
     "data": {
      "text/plain": [
       "2742    Smooth, ripe and exotic. This fat, opulent win...\n",
       "1810    A wine of great intensity, depth and complexit...\n",
       "2685    Fresh as a sea breeze. Intense and vivid, offe...\n",
       "1550    Bright and tangy. Generous with its creamy gra...\n",
       "1086    This is mouthfilling, but stylish and focused,...\n",
       "Name: Review, dtype: object"
      ]
     },
     "execution_count": 15,
     "metadata": {},
     "output_type": "execute_result"
    }
   ],
   "source": [
    "X_train.head()"
   ]
  },
  {
   "cell_type": "code",
   "execution_count": 16,
   "metadata": {},
   "outputs": [
    {
     "data": {
      "text/plain": [
       "(2475,)"
      ]
     },
     "execution_count": 16,
     "metadata": {},
     "output_type": "execute_result"
    }
   ],
   "source": [
    "X_train.shape"
   ]
  },
  {
   "cell_type": "code",
   "execution_count": 17,
   "metadata": {},
   "outputs": [
    {
     "data": {
      "text/plain": [
       "array(['Smooth, ripe and exotic. This fat, opulent wine displays spectacular blackberry, black cherry, currant and plum aromas and flavors that all come together in a silky, supple package. Delicious now, but should keep growing through 1998. 531 cases made. ',\n",
       "       'A wine of great intensity, depth and complexity. Beautifully crafted, ripe, rich and creamy, showing off pretty vanilla and mocha-scented oak before a deep core of currant, blackberry, black cherry and minerally flavors fold in. Firm tannins add structure on the finish. Cabernet Sauvignon, Cabernet Franc, Merlot and Petit Verdot. Best from 2004 through 2014. 7,000 cases made. ',\n",
       "       \"Fresh as a sea breeze. Intense and vivid, offering crisp lemon-lime and light herbal notes with a nervy acidity that gives it lift and elegance. It's fresh, clean and maintains good focus through the long finish. Drink now. 10,000 cases made. \",\n",
       "       ...,\n",
       "       'Delivers toasted hazelnut and Brazil nut aromatics, followed by a ripe, well-stuffed core of pear, fig and melon flavors, revealing a lightly bracing edge through the ginger-tinged finish. A long stony echo takes over in the end. A beguiling and distinct expression of Chardonnay. Drink now through 2018. 15 cases imported. ',\n",
       "       'Vivid, complex and inviting, offering a lively mouthful of red berry, black cherry, mint and mocha flavors that linger effortlessly against polished tannins. This has depth and distinction. Merlot, Cabernet Franc, Petit Verdot, Cabernet Sauvignon and Malbec. Drink now through 2020. 2,020 cases made. ',\n",
       "       'Haunting stuff, ethereal in texture, with amazingly delicate bubbles that carry wave after wave of rich toast, spice and baked apple flavors, persisting on the elegant finish. This has harmony, intensity and refinement. Drink now. 640 cases made. '],\n",
       "      dtype='<U488')"
      ]
     },
     "execution_count": 17,
     "metadata": {},
     "output_type": "execute_result"
    }
   ],
   "source": [
    "# Convert X_train to unicode text so that CountVectorizer will understand it\n",
    "\n",
    "X_train_U = X_train.values.astype('U')\n",
    "X_train_U"
   ]
  },
  {
   "cell_type": "code",
   "execution_count": 18,
   "metadata": {},
   "outputs": [
    {
     "data": {
      "text/plain": [
       "(2475, 4397)"
      ]
     },
     "execution_count": 18,
     "metadata": {},
     "output_type": "execute_result"
    }
   ],
   "source": [
    "# Tokenize text\n",
    "count_vect = CountVectorizer()\n",
    "X_train_counts = count_vect.fit_transform(X_train_U)\n",
    "X_train_counts.shape"
   ]
  },
  {
   "cell_type": "code",
   "execution_count": 19,
   "metadata": {},
   "outputs": [
    {
     "data": {
      "text/plain": [
       "(2475, 4397)"
      ]
     },
     "execution_count": 19,
     "metadata": {},
     "output_type": "execute_result"
    }
   ],
   "source": [
    "# Convert occurences to frequencies\n",
    "tfidf_transformer = TfidfTransformer()\n",
    "X_train_tfidf = tfidf_transformer.fit_transform(X_train_counts)\n",
    "X_train_tfidf.shape"
   ]
  },
  {
   "cell_type": "markdown",
   "metadata": {},
   "source": [
    "## Train the SVM Classifier Model"
   ]
  },
  {
   "cell_type": "markdown",
   "metadata": {},
   "source": [
    "## Pipeline alternative"
   ]
  },
  {
   "cell_type": "code",
   "execution_count": 20,
   "metadata": {},
   "outputs": [],
   "source": [
    "pipe_model = Pipeline([\n",
    "    ('vect', CountVectorizer()),\n",
    "    ('tfidf', TfidfTransformer()),\n",
    "    ('clf', SGDClassifier(loss = 'hinge', penalty = 'l2', alpha = 1e-3, \n",
    "                          random_state = 42, max_iter = 5, tol = None))\n",
    "])"
   ]
  },
  {
   "cell_type": "code",
   "execution_count": 21,
   "metadata": {},
   "outputs": [
    {
     "data": {
      "text/plain": [
       "Pipeline(steps=[('vect', CountVectorizer()), ('tfidf', TfidfTransformer()),\n",
       "                ('clf',\n",
       "                 SGDClassifier(alpha=0.001, max_iter=5, random_state=42,\n",
       "                               tol=None))])"
      ]
     },
     "execution_count": 21,
     "metadata": {},
     "output_type": "execute_result"
    }
   ],
   "source": [
    "pipe_model.fit(X_train.values.astype('U'), y_train)"
   ]
  },
  {
   "cell_type": "code",
   "execution_count": 22,
   "metadata": {},
   "outputs": [],
   "source": [
    "# Predict the response for the test dataset\n",
    "y_pred = pipe_model.predict(X_test.values.astype('U'))"
   ]
  },
  {
   "cell_type": "code",
   "execution_count": 23,
   "metadata": {},
   "outputs": [],
   "source": [
    "# Convert y_test from tuple to array for comparison to y_pred\n",
    "y_test_arr = np.asarray(y_test)"
   ]
  },
  {
   "cell_type": "code",
   "execution_count": 24,
   "metadata": {},
   "outputs": [
    {
     "data": {
      "text/plain": [
       "0.9345454545454546"
      ]
     },
     "execution_count": 24,
     "metadata": {},
     "output_type": "execute_result"
    }
   ],
   "source": [
    "# Calculate accuracy\n",
    "np.mean(y_pred == y_test_arr)"
   ]
  },
  {
   "cell_type": "markdown",
   "metadata": {},
   "source": [
    "## Evaluate the Model"
   ]
  },
  {
   "cell_type": "code",
   "execution_count": 25,
   "metadata": {},
   "outputs": [
    {
     "name": "stdout",
     "output_type": "stream",
     "text": [
      "                     precision    recall  f1-score   support\n",
      "\n",
      "Dessert & Fortified       0.00      0.00      0.00        20\n",
      "                Red       0.95      1.00      0.97       573\n",
      "      Rosé | Rosado       0.00      0.00      0.00         2\n",
      "          Sparkling       1.00      0.05      0.09        22\n",
      "              White       0.89      0.96      0.92       208\n",
      "\n",
      "           accuracy                           0.93       825\n",
      "          macro avg       0.57      0.40      0.40       825\n",
      "       weighted avg       0.91      0.93      0.91       825\n",
      "\n"
     ]
    },
    {
     "name": "stderr",
     "output_type": "stream",
     "text": [
      "/home/elizabethwotawa/anaconda3/lib/python3.7/site-packages/sklearn/metrics/_classification.py:1245: UndefinedMetricWarning: Precision and F-score are ill-defined and being set to 0.0 in labels with no predicted samples. Use `zero_division` parameter to control this behavior.\n",
      "  _warn_prf(average, modifier, msg_start, len(result))\n",
      "/home/elizabethwotawa/anaconda3/lib/python3.7/site-packages/sklearn/metrics/_classification.py:1245: UndefinedMetricWarning: Precision and F-score are ill-defined and being set to 0.0 in labels with no predicted samples. Use `zero_division` parameter to control this behavior.\n",
      "  _warn_prf(average, modifier, msg_start, len(result))\n",
      "/home/elizabethwotawa/anaconda3/lib/python3.7/site-packages/sklearn/metrics/_classification.py:1245: UndefinedMetricWarning: Precision and F-score are ill-defined and being set to 0.0 in labels with no predicted samples. Use `zero_division` parameter to control this behavior.\n",
      "  _warn_prf(average, modifier, msg_start, len(result))\n"
     ]
    }
   ],
   "source": [
    "class_descriptions = ['Dessert & Fortified', 'Red', 'Rosé | Rosado', 'Sparkling', 'White']\n",
    "\n",
    "print(metrics.classification_report(y_test_arr, y_pred, target_names = class_descriptions))"
   ]
  },
  {
   "cell_type": "code",
   "execution_count": 26,
   "metadata": {},
   "outputs": [
    {
     "data": {
      "text/plain": [
       "array([[  0,  10,   0,   0,  10],\n",
       "       [  0, 571,   0,   0,   2],\n",
       "       [  0,   1,   0,   0,   1],\n",
       "       [  0,   9,   0,   1,  12],\n",
       "       [  0,   9,   0,   0, 199]])"
      ]
     },
     "execution_count": 26,
     "metadata": {},
     "output_type": "execute_result"
    }
   ],
   "source": [
    "metrics.confusion_matrix(y_test_arr, y_pred)"
   ]
  },
  {
   "cell_type": "markdown",
   "metadata": {},
   "source": [
    "## Inference on New Data"
   ]
  },
  {
   "cell_type": "code",
   "execution_count": 27,
   "metadata": {},
   "outputs": [],
   "source": [
    "examples = [\n",
    "    # https://www.winemag.com/buying-guide/far-niente-2018-cabernet-sauvignon-napa-valley/\n",
    "    'This memorable Cabernet Sauvignon has small amounts of Petit Verdot, Cabernet Franc, Merlot and Malbec blended in. Aged 17 months in a majority of new French oak, it unfurls flavors of red fruit, dried herb and clove over a core of youthful tannin and spicy oak. Best from 2028–2038.',\n",
    "    # https://www.winemag.com/buying-guide/wohlmuth-2018-ried-hochsteinriegl-sauvignon-blanc-sudsteiermark/\n",
    "    'An initial hint of crushed ivy and citrus leaf peeks through on the nose. The palate then shows green-tinged ripeness, as if a juicy Mirabelle were spritzed with lime. All is bedded on a light-footed yet profound palate. It offers a gorgeous combination of smoothness and freshness. Drink by 2040. ANNE KREBIEHL MW',\n",
    "    # https://www.winemag.com/buying-guide/g-h-mumm-2013-brut-millesime-champagne/\n",
    "    'A Pinot Noir-dominated Champagne, this is richly textured and showing attractive signs of maturity. The toastiness is balanced by crispness with a tangy lemon flavor that broadens into ripe apples. Drink this seductive wine now. ROGER VOSS'\n",
    "]\n",
    "\n",
    "examples = np.asarray(examples)"
   ]
  },
  {
   "cell_type": "code",
   "execution_count": 28,
   "metadata": {},
   "outputs": [],
   "source": [
    "ex_pred = pipe_model.predict(examples.astype('U'))"
   ]
  },
  {
   "cell_type": "code",
   "execution_count": 29,
   "metadata": {},
   "outputs": [
    {
     "data": {
      "text/plain": [
       "array([1, 4, 4])"
      ]
     },
     "execution_count": 29,
     "metadata": {},
     "output_type": "execute_result"
    }
   ],
   "source": [
    "ex_pred"
   ]
  },
  {
   "cell_type": "markdown",
   "metadata": {},
   "source": [
    "## Save the Model"
   ]
  },
  {
   "cell_type": "code",
   "execution_count": 30,
   "metadata": {},
   "outputs": [],
   "source": [
    "filename = './model/SVMClassifier.pkl'\n",
    "\n",
    "with open(filename, 'wb') as file:\n",
    "    pickle.dump(pipe_model, file)"
   ]
  },
  {
   "cell_type": "code",
   "execution_count": null,
   "metadata": {},
   "outputs": [],
   "source": []
  }
 ],
 "metadata": {
  "kernelspec": {
   "display_name": "Python 3",
   "language": "python",
   "name": "python3"
  },
  "language_info": {
   "codemirror_mode": {
    "name": "ipython",
    "version": 3
   },
   "file_extension": ".py",
   "mimetype": "text/x-python",
   "name": "python",
   "nbconvert_exporter": "python",
   "pygments_lexer": "ipython3",
   "version": "3.7.3"
  }
 },
 "nbformat": 4,
 "nbformat_minor": 2
}
