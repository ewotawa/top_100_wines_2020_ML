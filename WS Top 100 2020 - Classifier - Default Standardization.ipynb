{
 "cells": [
  {
   "cell_type": "markdown",
   "metadata": {},
   "source": [
    "# Intro\n",
    "Prepare the *Wine Spectator* Top 100 review set for training a text classifier model.\n",
    "Reference: [Dataset Splitting Best Practices in Python](https://www.kdnuggets.com/2020/05/dataset-splitting-best-practices-python.html)"
   ]
  },
  {
   "cell_type": "markdown",
   "metadata": {},
   "source": [
    "# Load the *Wine Spectator* Top 100 dataset"
   ]
  },
  {
   "cell_type": "markdown",
   "metadata": {},
   "source": [
    "## File setup"
   ]
  },
  {
   "cell_type": "code",
   "execution_count": 1,
   "metadata": {},
   "outputs": [],
   "source": [
    "# import and initialize main python libraries\n",
    "import numpy as np\n",
    "import pandas as pd\n",
    "import matplotlib.pyplot as plt\n",
    "\n",
    "# import libraries for file navigation\n",
    "import os\n",
    "import shutil\n",
    "import glob\n",
    "from pandas_ods_reader import read_ods\n",
    "\n",
    "# import other libraries\n",
    "import re # regular expressions\n",
    "import string # working with text\n",
    "\n",
    "# import ML libraries\n",
    "from sklearn.model_selection import train_test_split\n",
    "import tensorflow as tf\n",
    "\n",
    "from tensorflow.keras import layers\n",
    "from tensorflow.keras import losses\n",
    "from tensorflow.keras import preprocessing\n",
    "from tensorflow.keras.layers.experimental.preprocessing import TextVectorization\n",
    "\n",
    "# import Pickle for ML model export\n",
    "import pickle"
   ]
  },
  {
   "cell_type": "code",
   "execution_count": 2,
   "metadata": {},
   "outputs": [
    {
     "name": "stdout",
     "output_type": "stream",
     "text": [
      "2.4.1\n"
     ]
    }
   ],
   "source": [
    "# Ensure TensorFlow version is at least 2.4.0\n",
    "print(tf.__version__)"
   ]
  },
  {
   "cell_type": "markdown",
   "metadata": {},
   "source": [
    "## Load and explore the dataset"
   ]
  },
  {
   "cell_type": "code",
   "execution_count": 3,
   "metadata": {},
   "outputs": [],
   "source": [
    "dataset_dir = './review_data'"
   ]
  },
  {
   "cell_type": "code",
   "execution_count": 4,
   "metadata": {},
   "outputs": [
    {
     "data": {
      "text/plain": [
       "['train', 'test', 'val']"
      ]
     },
     "execution_count": 4,
     "metadata": {},
     "output_type": "execute_result"
    }
   ],
   "source": [
    "os.listdir(dataset_dir)"
   ]
  },
  {
   "cell_type": "code",
   "execution_count": 5,
   "metadata": {},
   "outputs": [
    {
     "data": {
      "text/plain": [
       "['3', '4', '1', '2', '0']"
      ]
     },
     "execution_count": 5,
     "metadata": {},
     "output_type": "execute_result"
    }
   ],
   "source": [
    "train_dir = os.path.join(dataset_dir, 'train')\n",
    "os.listdir(train_dir)"
   ]
  },
  {
   "cell_type": "code",
   "execution_count": 6,
   "metadata": {},
   "outputs": [
    {
     "data": {
      "text/plain": [
       "['3', '4', '1', '2', '0']"
      ]
     },
     "execution_count": 6,
     "metadata": {},
     "output_type": "execute_result"
    }
   ],
   "source": [
    "test_dir = os.path.join(dataset_dir, 'test')\n",
    "os.listdir(test_dir)"
   ]
  },
  {
   "cell_type": "code",
   "execution_count": 7,
   "metadata": {},
   "outputs": [
    {
     "data": {
      "text/plain": [
       "['3', '4', '1', '2', '0']"
      ]
     },
     "execution_count": 7,
     "metadata": {},
     "output_type": "execute_result"
    }
   ],
   "source": [
    "val_dir = os.path.join(dataset_dir, 'val')\n",
    "os.listdir(val_dir)"
   ]
  },
  {
   "cell_type": "markdown",
   "metadata": {},
   "source": [
    "## Load the dataset"
   ]
  },
  {
   "cell_type": "code",
   "execution_count": 8,
   "metadata": {},
   "outputs": [
    {
     "name": "stdout",
     "output_type": "stream",
     "text": [
      "Found 2475 files belonging to 5 classes.\n"
     ]
    }
   ],
   "source": [
    "# Use text_dataset_from_directory to create a dataset.\n",
    "# Note: train set and validation set already split, do not need to split here.\n",
    "\n",
    "batch_size = 5\n",
    "seed = 1\n",
    "\n",
    "raw_train_ds = tf.keras.preprocessing.text_dataset_from_directory(\n",
    "    './review_data/train',\n",
    "    batch_size = batch_size,\n",
    "    # validation_split = NA,\n",
    "    # subset = NA,\n",
    "    seed = seed\n",
    ")"
   ]
  },
  {
   "cell_type": "code",
   "execution_count": 9,
   "metadata": {},
   "outputs": [
    {
     "name": "stdout",
     "output_type": "stream",
     "text": [
      "Found 413 files belonging to 5 classes.\n"
     ]
    }
   ],
   "source": [
    "raw_val_ds = tf.keras.preprocessing.text_dataset_from_directory(\n",
    "    './review_data/val',\n",
    "    batch_size = batch_size,\n",
    "    # validation_split = NA,\n",
    "    # subset = NA,\n",
    "    seed = seed\n",
    ")"
   ]
  },
  {
   "cell_type": "code",
   "execution_count": 10,
   "metadata": {},
   "outputs": [
    {
     "name": "stdout",
     "output_type": "stream",
     "text": [
      "Found 412 files belonging to 5 classes.\n"
     ]
    }
   ],
   "source": [
    "raw_test_ds = tf.keras.preprocessing.text_dataset_from_directory(\n",
    "    './review_data/test',\n",
    "    batch_size = batch_size\n",
    ")"
   ]
  },
  {
   "cell_type": "code",
   "execution_count": 11,
   "metadata": {},
   "outputs": [
    {
     "name": "stdout",
     "output_type": "stream",
     "text": [
      "Review b''\n",
      "Label 4\n",
      "Review b'A triumph. Masses of ripe apple, toasted oak, with dried pineapple, mango and apricot aromas. Full-bodied, with super flavors, yet it remains fresh and lively on the palate. The \"full monty\" for Chardonnay. Drink now through 2004. 6,665 cases made. '\n",
      "Label 4\n",
      "Review b'A rising star of the region. Classically well made and sophisticated, with impressive blackberry, mint and chocolate aromas and flavors and very firm tannins on the finish. Almost like a M\\xc3\\xa9doc in structure. Best after 1997. 8,000 cases made. '\n",
      "Label 1\n"
     ]
    }
   ],
   "source": [
    "# print out a few examples\n",
    "\n",
    "for text_batch, label_batch in raw_train_ds.take(1):\n",
    "    for i in range(3):\n",
    "        print('Review', text_batch.numpy()[i])\n",
    "        print('Label', label_batch.numpy()[i])"
   ]
  },
  {
   "cell_type": "markdown",
   "metadata": {},
   "source": [
    "## Prepare the dataset for training"
   ]
  },
  {
   "cell_type": "code",
   "execution_count": 12,
   "metadata": {},
   "outputs": [],
   "source": [
    "# preprocess the text: remove punctuation, HTML elements, e.g., to simplify the dataset.\n",
    "# add decorator to facilitate export \n",
    "\n",
    "#@tf.keras.utils.register_keras_serializable()\n",
    "#def custom_standardization(input_data):\n",
    "#    lowercase = tf.strings.lower(input_data)\n",
    "#    output = tf.strings.regex_replace(lowercase, \n",
    "#                                      '[%s]' % re.escape(string.punctuation),\n",
    "#                                      '')\n",
    "#    return output"
   ]
  },
  {
   "cell_type": "code",
   "execution_count": 13,
   "metadata": {},
   "outputs": [],
   "source": [
    "# create a Text Vectorization layer\n",
    "# set output mode to int to create unique integers for each token.\n",
    "# define constants for the model.\n",
    "# Use the default standardization\n",
    "\n",
    "max_features = 10000\n",
    "sequence_length = 50\n",
    "\n",
    "vectorize_layer = TextVectorization(\n",
    "    standardize = 'lower_and_strip_punctuation',\n",
    "    max_tokens = max_features,\n",
    "    output_mode = 'int',\n",
    "    output_sequence_length = sequence_length\n",
    ")"
   ]
  },
  {
   "cell_type": "code",
   "execution_count": 14,
   "metadata": {},
   "outputs": [],
   "source": [
    "# call adapt to fit the state of the preprocessing layer to the dataset.\n",
    "# make a text-only dataset (without labels), then call adapt\n",
    "\n",
    "train_text = raw_train_ds.map(lambda x, y: x)\n",
    "vectorize_layer.adapt(train_text)"
   ]
  },
  {
   "cell_type": "code",
   "execution_count": 15,
   "metadata": {},
   "outputs": [],
   "source": [
    "# create a function to see the result of using this layer to preprocess some data.\n",
    "\n",
    "def vectorize_text(text, label):\n",
    "    text = tf.expand_dims(text, -1)\n",
    "    return vectorize_layer(text), label"
   ]
  },
  {
   "cell_type": "code",
   "execution_count": 16,
   "metadata": {},
   "outputs": [
    {
     "name": "stdout",
     "output_type": "stream",
     "text": [
      "Review tf.Tensor(b'Lively, deftly balanced and refreshing in style, with pretty raspberry and cherry flavors playing against hints of spice and chalk. Finishes with impressive length. Drink now through 2016. 62,954 cases made. ', shape=(), dtype=string)\n",
      "Label 1\n",
      "Vectorized Review (<tf.Tensor: shape=(1, 50), dtype=int64, numpy=\n",
      "array([[  86,  489,   66,    2,  454,   25,   97,    4,  188,   57,    2,\n",
      "          21,   10, 1105,  353,   83,    5,   31,    2,  808,  187,    4,\n",
      "         165,  209,   13,   11,    9,  232, 4655,    7,    8,    0,    0,\n",
      "           0,    0,    0,    0,    0,    0,    0,    0,    0,    0,    0,\n",
      "           0,    0,    0,    0,    0,    0]])>, <tf.Tensor: shape=(), dtype=int32, numpy=1>)\n"
     ]
    }
   ],
   "source": [
    "# retrieve a batch (of 32 reviews and labels) from the dataset.\n",
    "\n",
    "text_batch, label_batch = next(iter(raw_train_ds))\n",
    "first_review, first_label = text_batch[0], label_batch[0]\n",
    "print('Review', first_review)\n",
    "print('Label', raw_train_ds.class_names[first_label])\n",
    "print('Vectorized Review', vectorize_text(first_review, first_label))"
   ]
  },
  {
   "cell_type": "code",
   "execution_count": 17,
   "metadata": {},
   "outputs": [
    {
     "name": "stdout",
     "output_type": "stream",
     "text": [
      "1287 --->  barolo\n",
      "313 --->  earthy\n",
      "Vocabulary size: 5122\n"
     ]
    }
   ],
   "source": [
    "print('1287 ---> ', vectorize_layer.get_vocabulary()[1287])\n",
    "print('313 ---> ', vectorize_layer.get_vocabulary()[313])\n",
    "print('Vocabulary size: {}'.format(len(vectorize_layer.get_vocabulary())))"
   ]
  },
  {
   "cell_type": "code",
   "execution_count": 18,
   "metadata": {},
   "outputs": [],
   "source": [
    "# Apply text vectorization layer to train, test, validation datasets\n",
    "train_ds = raw_train_ds.map(vectorize_text)\n",
    "test_ds = raw_test_ds.map(vectorize_text)\n",
    "val_ds = raw_val_ds.map(vectorize_text)"
   ]
  },
  {
   "cell_type": "markdown",
   "metadata": {},
   "source": [
    "## Configure the dataset for performance"
   ]
  },
  {
   "cell_type": "code",
   "execution_count": 19,
   "metadata": {},
   "outputs": [],
   "source": [
    "# .cache() - keep data in memory after loaded off disk\n",
    "# .prefetch() - overlap data preprocessingand model execution\n",
    "\n",
    "AUTOTUNE = tf.data.AUTOTUNE\n",
    "\n",
    "train_ds = train_ds.cache().prefetch(buffer_size = AUTOTUNE)\n",
    "test_ds = test_ds.cache().prefetch(buffer_size = AUTOTUNE)\n",
    "val_ds = val_ds.cache().prefetch(buffer_size = AUTOTUNE)"
   ]
  },
  {
   "cell_type": "markdown",
   "metadata": {},
   "source": [
    "## Create the model\n",
    "Note: Rather than the Binary Classifier introduced in the TensorFlow article [Basic text classification](https://www.tensorflow.org/tutorials/keras/text_classification), use the Support Vector Machines (SVM) classifier as introduced in [Multi-Class Text Classification with Extremely Small Data Set (Deep Learning!)](https://medium.com/@ruixuanl/multi-class-text-classification-with-extremely-small-data-set-deep-learning-b38dfb386f8e)\n",
    "\n",
    "Rationale: \n",
    "* need a model that can support more than two classifications\n",
    "* need a model that can support an extremely small dataset"
   ]
  },
  {
   "cell_type": "code",
   "execution_count": 20,
   "metadata": {},
   "outputs": [
    {
     "data": {
      "text/plain": [
       "5"
      ]
     },
     "execution_count": 20,
     "metadata": {},
     "output_type": "execute_result"
    }
   ],
   "source": [
    "# number of classes the model will return\n",
    "classes = os.listdir(val_dir)\n",
    "len(classes)"
   ]
  },
  {
   "cell_type": "code",
   "execution_count": 21,
   "metadata": {},
   "outputs": [],
   "source": [
    "embedding_dim = 16"
   ]
  },
  {
   "cell_type": "code",
   "execution_count": 22,
   "metadata": {},
   "outputs": [
    {
     "name": "stdout",
     "output_type": "stream",
     "text": [
      "Model: \"sequential\"\n",
      "_________________________________________________________________\n",
      "Layer (type)                 Output Shape              Param #   \n",
      "=================================================================\n",
      "embedding (Embedding)        (None, None, 16)          160016    \n",
      "_________________________________________________________________\n",
      "global_average_pooling1d (Gl (None, 16)                0         \n",
      "_________________________________________________________________\n",
      "dense (Dense)                (None, 6)                 102       \n",
      "=================================================================\n",
      "Total params: 160,118\n",
      "Trainable params: 160,118\n",
      "Non-trainable params: 0\n",
      "_________________________________________________________________\n"
     ]
    }
   ],
   "source": [
    "model = tf.keras.Sequential([\n",
    "    layers.Embedding(max_features + 1, embedding_dim),\n",
    "    layers.GlobalAveragePooling1D(),\n",
    "    #layers.Dropout(0.02),\n",
    "    layers.Dense(len(classes) + 1, activation = 'softmax')\n",
    "])\n",
    "\n",
    "model.summary()"
   ]
  },
  {
   "cell_type": "markdown",
   "metadata": {},
   "source": [
    "## Loss function and optimizer"
   ]
  },
  {
   "cell_type": "code",
   "execution_count": 23,
   "metadata": {},
   "outputs": [],
   "source": [
    "model.compile(loss = 'sparse_categorical_crossentropy',\n",
    "              optimizer = 'adam',\n",
    "              metrics = ['accuracy'])"
   ]
  },
  {
   "cell_type": "markdown",
   "metadata": {},
   "source": [
    "## Train the model"
   ]
  },
  {
   "cell_type": "code",
   "execution_count": 24,
   "metadata": {},
   "outputs": [
    {
     "name": "stdout",
     "output_type": "stream",
     "text": [
      "Epoch 1/10\n",
      "495/495 [==============================] - 1s 1ms/step - loss: 1.3863 - accuracy: 0.6788 - val_loss: 0.7644 - val_accuracy: 0.6949\n",
      "Epoch 2/10\n",
      "495/495 [==============================] - 0s 933us/step - loss: 0.7252 - accuracy: 0.6926 - val_loss: 0.6290 - val_accuracy: 0.6998\n",
      "Epoch 3/10\n",
      "495/495 [==============================] - 0s 928us/step - loss: 0.5717 - accuracy: 0.7713 - val_loss: 0.4922 - val_accuracy: 0.8499\n",
      "Epoch 4/10\n",
      "495/495 [==============================] - 0s 931us/step - loss: 0.4305 - accuracy: 0.9069 - val_loss: 0.3936 - val_accuracy: 0.9056\n",
      "Epoch 5/10\n",
      "495/495 [==============================] - 0s 931us/step - loss: 0.3386 - accuracy: 0.9234 - val_loss: 0.3345 - val_accuracy: 0.9201\n",
      "Epoch 6/10\n",
      "495/495 [==============================] - 0s 927us/step - loss: 0.2850 - accuracy: 0.9368 - val_loss: 0.2991 - val_accuracy: 0.9346\n",
      "Epoch 7/10\n",
      "495/495 [==============================] - 0s 926us/step - loss: 0.2510 - accuracy: 0.9381 - val_loss: 0.2762 - val_accuracy: 0.9346\n",
      "Epoch 8/10\n",
      "495/495 [==============================] - 0s 941us/step - loss: 0.2265 - accuracy: 0.9386 - val_loss: 0.2599 - val_accuracy: 0.9346\n",
      "Epoch 9/10\n",
      "495/495 [==============================] - 0s 929us/step - loss: 0.2066 - accuracy: 0.9393 - val_loss: 0.2473 - val_accuracy: 0.9346\n",
      "Epoch 10/10\n",
      "495/495 [==============================] - 1s 1ms/step - loss: 0.1890 - accuracy: 0.9402 - val_loss: 0.2370 - val_accuracy: 0.9395\n"
     ]
    }
   ],
   "source": [
    "epochs = 10\n",
    "\n",
    "history = model.fit(\n",
    "    train_ds,\n",
    "    validation_data = val_ds,\n",
    "    epochs = epochs\n",
    ")"
   ]
  },
  {
   "cell_type": "markdown",
   "metadata": {},
   "source": [
    "## Evaluate the model"
   ]
  },
  {
   "cell_type": "code",
   "execution_count": 25,
   "metadata": {},
   "outputs": [
    {
     "name": "stdout",
     "output_type": "stream",
     "text": [
      "83/83 [==============================] - 0s 416us/step - loss: 0.2406 - accuracy: 0.9369\n",
      "Loss:  0.24061164259910583\n",
      "Accuracy:  0.9368932247161865\n"
     ]
    }
   ],
   "source": [
    "loss, accuracy = model.evaluate(test_ds)\n",
    "\n",
    "print('Loss: ', loss)\n",
    "print('Accuracy: ', accuracy)"
   ]
  },
  {
   "cell_type": "markdown",
   "metadata": {},
   "source": [
    "## Create a plot of accuracy and loss over time"
   ]
  },
  {
   "cell_type": "code",
   "execution_count": 26,
   "metadata": {},
   "outputs": [
    {
     "data": {
      "text/plain": [
       "dict_keys(['loss', 'accuracy', 'val_loss', 'val_accuracy'])"
      ]
     },
     "execution_count": 26,
     "metadata": {},
     "output_type": "execute_result"
    }
   ],
   "source": [
    "history_dict = history.history\n",
    "history_dict.keys()"
   ]
  },
  {
   "cell_type": "code",
   "execution_count": 27,
   "metadata": {
    "scrolled": true
   },
   "outputs": [
    {
     "data": {
      "image/png": "[encoded data removed]",
      "text/plain": [
       "<Figure size 432x288 with 1 Axes>"
      ]
     },
     "metadata": {
      "needs_background": "light"
     },
     "output_type": "display_data"
    }
   ],
   "source": [
    "acc = history_dict['accuracy']\n",
    "val_acc = history_dict['val_accuracy']\n",
    "loss = history_dict['loss']\n",
    "val_loss = history_dict['val_loss']\n",
    "\n",
    "epochs = range(1, len(acc) + 1)\n",
    "\n",
    "# bo is for blue dot\n",
    "plt.plot(epochs, loss, 'bo', label = 'Training loss')\n",
    "# b is for solid blue line\n",
    "plt.plot(epochs, val_loss, 'b', label = 'Validation loss')\n",
    "plt.title('Training and Validation Loss')\n",
    "plt.xlabel('Epochs')\n",
    "plt.ylabel('Loss')\n",
    "plt.legend()\n",
    "\n",
    "plt.savefig('./images/model_loss.jpg')\n",
    "\n",
    "plt.show()"
   ]
  },
  {
   "cell_type": "code",
   "execution_count": 28,
   "metadata": {},
   "outputs": [
    {
     "data": {
      "image/png": "[encoded data removed]",
      "text/plain": [
       "<Figure size 432x288 with 1 Axes>"
      ]
     },
     "metadata": {
      "needs_background": "light"
     },
     "output_type": "display_data"
    }
   ],
   "source": [
    "# bo is for blue dot\n",
    "plt.plot(epochs, acc, 'bo', label = 'Training acc')\n",
    "# b is for solid blue line\n",
    "plt.plot(epochs, val_acc, 'b', label = 'Validation acc')\n",
    "plt.title('Training and Validation Accuracy')\n",
    "plt.xlabel('Epochs')\n",
    "plt.ylabel('Accuracy')\n",
    "plt.legend()\n",
    "\n",
    "plt.savefig('./images/model_accuracy.jpg')\n",
    "\n",
    "plt.show()"
   ]
  },
  {
   "cell_type": "markdown",
   "metadata": {},
   "source": [
    "## Export Model"
   ]
  },
  {
   "cell_type": "code",
   "execution_count": 29,
   "metadata": {},
   "outputs": [
    {
     "name": "stdout",
     "output_type": "stream",
     "text": [
      "83/83 [==============================] - 0s 716us/step - loss: 1.1268 - accuracy: 0.9613\n",
      "0.9368932247161865\n"
     ]
    }
   ],
   "source": [
    "export_model = tf.keras.Sequential([\n",
    "    vectorize_layer,\n",
    "    model,\n",
    "    layers.Activation('sigmoid')\n",
    "])\n",
    "\n",
    "export_model.compile(\n",
    "    loss = 'sparse_categorical_crossentropy',\n",
    "    optimizer = 'adam',\n",
    "    metrics = ['accuracy']\n",
    ")\n",
    "\n",
    "# test with raw_test_ds\n",
    "loss, accuracy = export_model.evaluate(raw_test_ds)\n",
    "print(accuracy)"
   ]
  },
  {
   "cell_type": "markdown",
   "metadata": {},
   "source": [
    "## Inference on new data"
   ]
  },
  {
   "cell_type": "code",
   "execution_count": 30,
   "metadata": {},
   "outputs": [],
   "source": [
    "examples = [\n",
    "    # https://www.winemag.com/buying-guide/far-niente-2018-cabernet-sauvignon-napa-valley/\n",
    "    'This memorable Cabernet Sauvignon has small amounts of Petit Verdot, Cabernet Franc, Merlot and Malbec blended in. Aged 17 months in a majority of new French oak, it unfurls flavors of red fruit, dried herb and clove over a core of youthful tannin and spicy oak. Best from 2028–2038.',\n",
    "    # https://www.winemag.com/buying-guide/wohlmuth-2018-ried-hochsteinriegl-sauvignon-blanc-sudsteiermark/\n",
    "    'An initial hint of crushed ivy and citrus leaf peeks through on the nose. The palate then shows green-tinged ripeness, as if a juicy Mirabelle were spritzed with lime. All is bedded on a light-footed yet profound palate. It offers a gorgeous combination of smoothness and freshness. Drink by 2040. ANNE KREBIEHL MW',\n",
    "    # https://www.winemag.com/buying-guide/g-h-mumm-2013-brut-millesime-champagne/\n",
    "    'A Pinot Noir-dominated Champagne, this is richly textured and showing attractive signs of maturity. The toastiness is balanced by crispness with a tangy lemon flavor that broadens into ripe apples. Drink this seductive wine now. ROGER VOSS'\n",
    "]"
   ]
  },
  {
   "cell_type": "code",
   "execution_count": 31,
   "metadata": {},
   "outputs": [
    {
     "data": {
      "text/plain": [
       "array([[0.5004707 , 0.73018056, 0.500051  , 0.5002724 , 0.5003125 ,\n",
       "        0.50000864],\n",
       "       [0.5355168 , 0.5473221 , 0.50895005, 0.53656065, 0.6161907 ,\n",
       "        0.5030294 ],\n",
       "       [0.5193606 , 0.5379275 , 0.504526  , 0.53088045, 0.65144217,\n",
       "        0.5008371 ]], dtype=float32)"
      ]
     },
     "execution_count": 31,
     "metadata": {},
     "output_type": "execute_result"
    }
   ],
   "source": [
    "export_model.predict(examples)"
   ]
  },
  {
   "cell_type": "markdown",
   "metadata": {},
   "source": [
    "## Save the file for use in classifier app\n",
    "[Reference](https://www.tensorflow.org/tutorials/keras/save_and_load)"
   ]
  },
  {
   "cell_type": "code",
   "execution_count": 32,
   "metadata": {},
   "outputs": [
    {
     "name": "stdout",
     "output_type": "stream",
     "text": [
      "INFO:tensorflow:Assets written to: ./model/wine_classifier/assets\n"
     ]
    }
   ],
   "source": [
    "export_model.save('./model/wine_classifier', save_format='tf')"
   ]
  },
  {
   "cell_type": "code",
   "execution_count": null,
   "metadata": {},
   "outputs": [],
   "source": []
  }
 ],
 "metadata": {
  "kernelspec": {
   "display_name": "Python 3",
   "language": "python",
   "name": "python3"
  },
  "language_info": {
   "codemirror_mode": {
    "name": "ipython",
    "version": 3
   },
   "file_extension": ".py",
   "mimetype": "text/x-python",
   "name": "python",
   "nbconvert_exporter": "python",
   "pygments_lexer": "ipython3",
   "version": "3.7.3"
  }
 },
 "nbformat": 4,
 "nbformat_minor": 2
}
